{
 "cells": [
  {
   "cell_type": "markdown",
   "id": "246da36b-628a-42e1-9179-72ac3470a83b",
   "metadata": {},
   "source": [
    "# Example #1\n",
    "\n",
    "This is simple example that create a simple plot using matplotlib"
   ]
  },
  {
   "cell_type": "code",
   "execution_count": null,
   "id": "92c59c80-8769-4282-a463-4cad9c64e175",
   "metadata": {},
   "outputs": [],
   "source": [
    "import matplotlib.pyplot as plt\n",
    "import numpy as np\n",
    "\n",
    "# Data for plotting\n",
    "x = np.arange(0.0, 4 * np.pi, 0.01)\n",
    "\n",
    "fig, ax = plt.subplots()\n",
    "ax.plot(x, np.sin(x))\n",
    "\n",
    "ax.set(xlabel=\"Angle [radians]\", ylabel=\"Amplitude\", title=\"Simple example plot\")\n",
    "ax.grid()\n",
    "plt.show()"
   ]
  },
  {
   "cell_type": "code",
   "execution_count": null,
   "id": "b78a84fe-eb16-407e-95e1-8542cca89859",
   "metadata": {},
   "outputs": [],
   "source": []
  }
 ],
 "metadata": {
  "kernelspec": {
   "display_name": "Python 3 (ipykernel)",
   "language": "python",
   "name": "python3"
  },
  "language_info": {
   "codemirror_mode": {
    "name": "ipython",
    "version": 3
   },
   "file_extension": ".py",
   "mimetype": "text/x-python",
   "name": "python",
   "nbconvert_exporter": "python",
   "pygments_lexer": "ipython3",
   "version": "3.8.12"
  }
 },
 "nbformat": 4,
 "nbformat_minor": 5
}
